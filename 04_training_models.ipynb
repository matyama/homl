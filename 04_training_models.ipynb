{
 "cells": [
  {
   "cell_type": "markdown",
   "metadata": {},
   "source": [
    "# Training Models"
   ]
  },
  {
   "cell_type": "code",
   "execution_count": 1,
   "metadata": {},
   "outputs": [],
   "source": [
    "import numpy as np\n",
    "\n",
    "%matplotlib inline\n",
    "import matplotlib.pyplot as plt\n",
    "\n",
    "import warnings\n",
    "warnings.filterwarnings('ignore')"
   ]
  },
  {
   "cell_type": "markdown",
   "metadata": {},
   "source": [
    "## Linear Regression\n",
    "\n",
    "Model: $h_{\\mathbf{\\theta}}(\\mathbf{x}) = \\hat{y} = \\theta^T \\mathbf{x}$"
   ]
  },
  {
   "cell_type": "code",
   "execution_count": 2,
   "metadata": {},
   "outputs": [],
   "source": [
    "X = 2 * np.random.rand(100, 1)\n",
    "y = 4 + 3 * X + np.random.randn(100, 1)"
   ]
  },
  {
   "cell_type": "markdown",
   "metadata": {},
   "source": [
    "### Normal Equation\n",
    "$\\mathbf{\\hat{\\theta}} = (\\mathbf{X}^T \\mathbf{X})^{-1} \\mathbf{X}^T \\mathbf{y}$"
   ]
  },
  {
   "cell_type": "code",
   "execution_count": 3,
   "metadata": {},
   "outputs": [
    {
     "data": {
      "text/plain": [
       "array([[3.78032011],\n",
       "       [3.28421175]])"
      ]
     },
     "execution_count": 3,
     "metadata": {},
     "output_type": "execute_result"
    }
   ],
   "source": [
    "X_b = np.c_[np.ones((100, 1)), X]\n",
    "theta_best = np.linalg.inv(X_b.T.dot(X_b)).dot(X_b.T).dot(y)\n",
    "theta_best"
   ]
  },
  {
   "cell_type": "markdown",
   "metadata": {},
   "source": [
    "Try some prediction"
   ]
  },
  {
   "cell_type": "code",
   "execution_count": 4,
   "metadata": {},
   "outputs": [
    {
     "data": {
      "text/plain": [
       "array([[ 3.78032011],\n",
       "       [10.34874361]])"
      ]
     },
     "execution_count": 4,
     "metadata": {},
     "output_type": "execute_result"
    }
   ],
   "source": [
    "X_new = np.array([[0], [2]])\n",
    "X_new_b = np.c_[np.ones((2, 1)), X_new]\n",
    "y_predict = X_new_b.dot(theta_best)\n",
    "y_predict"
   ]
  },
  {
   "cell_type": "code",
   "execution_count": 5,
   "metadata": {},
   "outputs": [
    {
     "data": {
      "image/png": "[encoded data removed]",
      "text/plain": [
       "<Figure size 432x288 with 1 Axes>"
      ]
     },
     "metadata": {
      "needs_background": "light"
     },
     "output_type": "display_data"
    }
   ],
   "source": [
    "plt.plot(X_new, y_predict, 'r-')\n",
    "plt.plot(X, y, 'b.')\n",
    "plt.axis([0, 2, 0, 15])\n",
    "plt.show()"
   ]
  },
  {
   "cell_type": "markdown",
   "metadata": {},
   "source": [
    "Now using *Scikit-Learn*"
   ]
  },
  {
   "cell_type": "code",
   "execution_count": 6,
   "metadata": {},
   "outputs": [
    {
     "data": {
      "text/plain": [
       "(array([3.78032011]), array([[3.28421175]]))"
      ]
     },
     "execution_count": 6,
     "metadata": {},
     "output_type": "execute_result"
    }
   ],
   "source": [
    "from sklearn.linear_model import LinearRegression\n",
    "\n",
    "lin_reg = LinearRegression()\n",
    "lin_reg.fit(X, y)\n",
    "lin_reg.intercept_, lin_reg.coef_"
   ]
  },
  {
   "cell_type": "code",
   "execution_count": 7,
   "metadata": {},
   "outputs": [
    {
     "data": {
      "text/plain": [
       "array([[ 3.78032011],\n",
       "       [10.34874361]])"
      ]
     },
     "execution_count": 7,
     "metadata": {},
     "output_type": "execute_result"
    }
   ],
   "source": [
    "lin_reg.predict(X_new)"
   ]
  },
  {
   "cell_type": "markdown",
   "metadata": {},
   "source": [
    "`LinearRegression` uses Least Squares modeule `lstsq` from `scipy`"
   ]
  },
  {
   "cell_type": "code",
   "execution_count": 8,
   "metadata": {},
   "outputs": [
    {
     "data": {
      "text/plain": [
       "array([[3.78032011],\n",
       "       [3.28421175]])"
      ]
     },
     "execution_count": 8,
     "metadata": {},
     "output_type": "execute_result"
    }
   ],
   "source": [
    "theta_best_svd, residuals, rank, s = np.linalg.lstsq(X_b, y, rcond=1e-6)\n",
    "theta_best_svd"
   ]
  },
  {
   "cell_type": "markdown",
   "metadata": {},
   "source": [
    "Compared to the normal equation, this uses a pseudo-inverse for cases $(\\mathbf{X}^T \\mathbf{X})^{-1}$ doesn't exist (e.g. $\\mathbf{X}$ is under-specified: $m < n$).\n",
    "\n",
    "The equation then is $\\mathbf{\\hat{\\theta}} = \\mathbf{X}^{+} \\mathbf{y}$ where $\\mathbf{X}^{+}$ is the *pseudo-inverse* found e.g. by SVD as $\\mathbf{X}^{+} = \\mathbf{U} \\mathbf{\\Sigma}^{+} \\mathbf{V}$. $\\mathbf{\\Sigma}^{+}$ is extracted from standard $\\mathbf{\\Sigma}$ from SVD but with all values less then some $\\epsilon$ replaced by zero, then replacing all non-zeros by their inverses and finally transposing the matrix.\n",
    "\n",
    "Also, using SVD results in $\\mathcal{O}(n^2)$ whereas normal equation is $\\mathcal{O}(n^{2.4})$ to $\\mathcal{O}(n^{3})$ depending on implementation."
   ]
  },
  {
   "cell_type": "code",
   "execution_count": 9,
   "metadata": {},
   "outputs": [
    {
     "data": {
      "text/plain": [
       "array([[3.78032011],\n",
       "       [3.28421175]])"
      ]
     },
     "execution_count": 9,
     "metadata": {},
     "output_type": "execute_result"
    }
   ],
   "source": [
    "np.linalg.pinv(X_b).dot(y)"
   ]
  },
  {
   "cell_type": "markdown",
   "metadata": {},
   "source": [
    "## Gradient Descend\n",
    "The algorithm is as follows:\n",
    "1. Initialize $\\mathbf{\\theta}^0$ to some random values.\n",
    "1. Iterate $\\mathbf{\\theta}^{t+1} = \\mathbf{\\theta}^t - \\eta \\nabla J(\\mathbf{\\theta}^t)$ where $J$ is the MSE (MSE yields the same optimum as RMES and is easier to optimize).\n",
    "$\\eta$ here is the *learning rate*.\n",
    "\n",
    "One can stop the iteration for instance when the norm of the gradient is smaller than some $\\epsilon$. Note that is is very useful to normalize the inputs.\n",
    "\n",
    "### Batch GD\n",
    "Batch GD updates model parameters ($\\mathbf{\\theta}$) based on gradient computed from the **full** training set ($\\mathbf{X}$). In case of linear model, the MSE error gradient is the following: $\\nabla MSE(\\mathbf{\\theta}) = \\frac{2}{m} \\mathbf{X}^T (\\mathbf{X} \\mathbf{\\theta} - \\mathbf{y})$"
   ]
  },
  {
   "cell_type": "code",
   "execution_count": 10,
   "metadata": {},
   "outputs": [
    {
     "data": {
      "text/plain": [
       "array([[3.78032011],\n",
       "       [3.28421175]])"
      ]
     },
     "execution_count": 10,
     "metadata": {},
     "output_type": "execute_result"
    }
   ],
   "source": [
    "eta = 0.1\n",
    "num_iters = 1000\n",
    "m = 100\n",
    "\n",
    "theta = np.random.randn(2, 1)\n",
    "\n",
    "for it in range(num_iters):\n",
    "    gradients = 2 / m * X_b.T.dot(X_b.dot(theta) - y)\n",
    "    theta = theta - eta * gradients\n",
    "    \n",
    "theta"
   ]
  },
  {
   "cell_type": "markdown",
   "metadata": {},
   "source": [
    "### Stochastic Gradient Descent\n",
    "\n",
    "Compared to batch GD where we computed gradients using whole training set, here we randomly sample one example at a time. It is important to select there randomly as SGD converges only under the IID assumption.\n",
    "\n",
    "Furthermore, it is common to use a *Simulated Annealing* cooling schedule to adapt the learning rate.\n",
    "\n",
    "Finally, micro-batch SGD uses a sample of more then single training example (but not full $\\mathbf{X}$) to compute the gradient."
   ]
  },
  {
   "cell_type": "code",
   "execution_count": 11,
   "metadata": {},
   "outputs": [
    {
     "data": {
      "text/plain": [
       "array([[3.78190132],\n",
       "       [3.26326565]])"
      ]
     },
     "execution_count": 11,
     "metadata": {},
     "output_type": "execute_result"
    }
   ],
   "source": [
    "num_epochs = 50\n",
    "t0, t1 = 5, 50\n",
    "\n",
    "def learning_schedule(t):\n",
    "    return t0 / (t + t1)\n",
    "\n",
    "theta = np.random.randn(2, 1)\n",
    "\n",
    "for epoch in range(num_epochs):\n",
    "    for i in range(m):\n",
    "        rand_ix = np.random.randint(m)\n",
    "        xi = X_b[rand_ix:rand_ix+1]\n",
    "        yi = y[rand_ix:rand_ix+1]\n",
    "        gradients = 2 * xi.T.dot(xi.dot(theta) - yi)\n",
    "        eta = learning_schedule(epoch * m + i)\n",
    "        theta = theta - eta * gradients\n",
    "\n",
    "theta"
   ]
  },
  {
   "cell_type": "markdown",
   "metadata": {},
   "source": [
    "Now using SGD with *Scikit-Learn* where\n",
    "* `tol` is the allowed distance from optimum ($\\epsilon$ discussed above)\n",
    "* `penalty` is used for additional regularization\n",
    "* `eta0` is the initial learning rate"
   ]
  },
  {
   "cell_type": "code",
   "execution_count": 12,
   "metadata": {},
   "outputs": [
    {
     "data": {
      "text/plain": [
       "(array([3.7617424]), array([3.3281034]))"
      ]
     },
     "execution_count": 12,
     "metadata": {},
     "output_type": "execute_result"
    }
   ],
   "source": [
    "from sklearn.linear_model import SGDRegressor\n",
    "\n",
    "sgd_reg = SGDRegressor(max_iter=1000, tol=1e-3, penalty=None, eta0=0.1)\n",
    "sgd_reg.fit(X, y.ravel())\n",
    "sgd_reg.intercept_, sgd_reg.coef_"
   ]
  },
  {
   "cell_type": "markdown",
   "metadata": {},
   "source": [
    "## Polynomial Regression\n",
    "\n",
    "The idea here is that to fit non-linear data we can add non-linear transformations of input features as new features. For instance for an input features $x$ we add $x^2$. Linear combination of parameters and such features then creates a polynomial model.\n",
    "\n",
    "`PolynomialFeatures` from *Scikit-Learn* then for given degree adds all combinations of input features up to that degree (beware of combinatorial explosion)."
   ]
  },
  {
   "cell_type": "code",
   "execution_count": 13,
   "metadata": {},
   "outputs": [],
   "source": [
    "m = 100\n",
    "X = 6 * np.random.randn(m, 1) - 3\n",
    "y = 0.5 * X**2 + X + 2 + np.random.randn(m, 1)"
   ]
  },
  {
   "cell_type": "code",
   "execution_count": 14,
   "metadata": {},
   "outputs": [
    {
     "data": {
      "text/plain": [
       "(array([-1.66965407]), array([-1.66965407,  2.7877447 ]))"
      ]
     },
     "execution_count": 14,
     "metadata": {},
     "output_type": "execute_result"
    }
   ],
   "source": [
    "from sklearn.preprocessing import PolynomialFeatures\n",
    "\n",
    "poly_features = PolynomialFeatures(degree=2, include_bias=False)\n",
    "X_poly = poly_features.fit_transform(X)\n",
    "X[0], X_poly[0]"
   ]
  },
  {
   "cell_type": "code",
   "execution_count": 15,
   "metadata": {},
   "outputs": [
    {
     "data": {
      "text/plain": [
       "(array([2.01623513]), array([[0.97156928, 0.50044956]]))"
      ]
     },
     "execution_count": 15,
     "metadata": {},
     "output_type": "execute_result"
    }
   ],
   "source": [
    "lin_reg = LinearRegression()\n",
    "lin_reg.fit(X_poly, y)\n",
    "lin_reg.intercept_, lin_reg.coef_"
   ]
  },
  {
   "cell_type": "markdown",
   "metadata": {},
   "source": [
    "## Learning Curves\n",
    "Graph of training (validation) error against varying train set size (i.e. the number of examples the model has seen) is another way how to tell whether the model is over/under-fit.\n",
    "\n",
    "### Bias/Variance tradeoff\n",
    "Generally the overall generalization error of any model is composed of three parts:\n",
    "* **Bias** - due to wrong assumptions (e.g. using linear model for non-linear, e.g. quadratic, data)\n",
    "* **Variance** - due to model's sensitivity to small changes in the training data (e.g. high-degree polynomial overfitting the data)\n",
    "* **Irreducible error** - due to noisiness in the data itself (e.g. dirty data, system errors, outliers)"
   ]
  },
  {
   "cell_type": "code",
   "execution_count": 16,
   "metadata": {},
   "outputs": [
    {
     "data": {
      "image/png": "[encoded data removed]",
      "text/plain": [
       "<Figure size 432x288 with 1 Axes>"
      ]
     },
     "metadata": {
      "needs_background": "light"
     },
     "output_type": "display_data"
    }
   ],
   "source": [
    "from sklearn.metrics import mean_squared_error\n",
    "from sklearn.model_selection import train_test_split\n",
    "\n",
    "def plot_learning_curves(model, X, y):\n",
    "    X_train, X_val, y_train, y_val = train_test_split(X, y, test_size=0.2)\n",
    "    train_errors, val_errors = [], []\n",
    "    for m in range(1, len(X_train)):\n",
    "        model.fit(X_train[:m], y_train[:m])\n",
    "        y_train_predict = model.predict(X_train[:m])\n",
    "        y_val_predict = model.predict(X_val)\n",
    "        train_errors.append(mean_squared_error(y_train[:m], y_train_predict))\n",
    "        val_errors.append(mean_squared_error(y_val, y_val_predict))\n",
    "    plt.plot(np.sqrt(train_errors), linewidth=2, label='train')\n",
    "    plt.plot(np.sqrt(val_errors), linewidth=2, label='val')\n",
    "    plt.legend()\n",
    "    \n",
    "lin_reg = LinearRegression()\n",
    "plot_learning_curves(lin_reg, X, y)"
   ]
  },
  {
   "cell_type": "code",
   "execution_count": 17,
   "metadata": {},
   "outputs": [
    {
     "data": {
      "image/png": "[encoded data removed]",
      "text/plain": [
       "<Figure size 432x288 with 1 Axes>"
      ]
     },
     "metadata": {
      "needs_background": "light"
     },
     "output_type": "display_data"
    }
   ],
   "source": [
    "from sklearn.pipeline import Pipeline\n",
    "\n",
    "poly_reg = Pipeline([\n",
    "    ('poly_features', PolynomialFeatures(degree=10, include_bias=False)),\n",
    "    ('lin_reg', LinearRegression()),\n",
    "])\n",
    "\n",
    "plot_learning_curves(poly_reg, X, y)"
   ]
  },
  {
   "cell_type": "markdown",
   "metadata": {},
   "source": [
    "## Regularized Linear Models\n",
    "Generally used to limit the degrees of freedom of a model in order to prevent ovefitting and help generalization.\n",
    "\n",
    "### Ridge Regression\n",
    "Ridge regression restricts the magnitude of model parameters by adding a penalty equal to half of $\\ell_2$ norm of the model weights.\n",
    "The cost function for MSE is then $J(\\mathbf{\\theta}) = MSE(\\mathbf{\\theta}) + \\alpha \\frac{1}{2} \\sum_{i = 1}^n \\theta_i^2$."
   ]
  },
  {
   "cell_type": "code",
   "execution_count": 18,
   "metadata": {},
   "outputs": [
    {
     "data": {
      "text/plain": [
       "array([[11.82427914]])"
      ]
     },
     "execution_count": 18,
     "metadata": {},
     "output_type": "execute_result"
    }
   ],
   "source": [
    "from sklearn.linear_model import Ridge\n",
    "\n",
    "ridge_reg = Ridge(alpha=1, solver='cholesky')\n",
    "ridge_reg.fit(X, y)\n",
    "ridge_reg.predict([[1.5]])"
   ]
  },
  {
   "cell_type": "markdown",
   "metadata": {},
   "source": [
    "Using SGD it looks like this..."
   ]
  },
  {
   "cell_type": "code",
   "execution_count": 19,
   "metadata": {},
   "outputs": [
    {
     "data": {
      "text/plain": [
       "array([9.48483484])"
      ]
     },
     "execution_count": 19,
     "metadata": {},
     "output_type": "execute_result"
    }
   ],
   "source": [
    "sgd_reg = SGDRegressor(penalty='l2')\n",
    "sgd_reg.fit(X, y)\n",
    "sgd_reg.predict([[1.5]])"
   ]
  },
  {
   "cell_type": "markdown",
   "metadata": {},
   "source": [
    "### Lasso Regression\n",
    "Lasso regression is basically the same as *Ridge Regression* but it penalizes parameters based on their $\\ell_1$ norm. It is interesting because as a side-effect it performs feature selection since the weights of the least relevant features will be forced to 0. The cost function for MSE is $J(\\mathbf{\\theta}) = MSE(\\mathbf{\\theta}) + \\alpha \\sum_{i = 1}^n |\\theta_i|$."
   ]
  },
  {
   "cell_type": "code",
   "execution_count": 20,
   "metadata": {},
   "outputs": [
    {
     "data": {
      "text/plain": [
       "array([11.83493889])"
      ]
     },
     "execution_count": 20,
     "metadata": {},
     "output_type": "execute_result"
    }
   ],
   "source": [
    "from sklearn.linear_model import Lasso\n",
    "\n",
    "lasso_reg = Lasso(alpha=0.1)\n",
    "lasso_reg.fit(X, y)\n",
    "lasso_reg.predict([[1.5]])"
   ]
  },
  {
   "cell_type": "markdown",
   "metadata": {},
   "source": [
    "### Elastic Net\n",
    "Elastic Net is an affine combination of *Ridge* and *Lasso* regressions with mixture hyper-parameter $r$. The cost funciton for MSE looks as follows: $J(\\mathbf{\\theta}) = MSE(\\mathbf{\\theta}) + r LASSO(\\mathbf{\\theta}) + (1 - r)RIDGE(\\mathbf{\\theta})$."
   ]
  },
  {
   "cell_type": "code",
   "execution_count": 21,
   "metadata": {},
   "outputs": [
    {
     "data": {
      "text/plain": [
       "array([11.84272445])"
      ]
     },
     "execution_count": 21,
     "metadata": {},
     "output_type": "execute_result"
    }
   ],
   "source": [
    "from sklearn.linear_model import ElasticNet\n",
    "elastic_net = ElasticNet(alpha=0.1, l1_ratio=0.5)\n",
    "elastic_net.fit(X, y)\n",
    "elastic_net.predict([[1.5]])"
   ]
  },
  {
   "cell_type": "markdown",
   "metadata": {},
   "source": [
    "## Early Stopping\n",
    "Another way how to regularize a liearning algorithm is to look at the learning curves and stop the learning as soon as the validation error reaches its minimum. It might be difficult to determine whether an algorithm has already reached a minimum. A common strategy is to keep learning for a while and if the error doesn't improve then go back to the minimum."
   ]
  },
  {
   "cell_type": "code",
   "execution_count": 22,
   "metadata": {},
   "outputs": [],
   "source": [
    "from copy import deepcopy\n",
    "from sklearn.preprocessing import StandardScaler\n",
    "\n",
    "# prepare the data\n",
    "poly_scaler = Pipeline([\n",
    "    ('poly_features', PolynomialFeatures(degree=90, include_bias=False)),\n",
    "    ('std_scaler', StandardScaler()),\n",
    "])\n",
    "\n",
    "# X_train_poly_scaled = poly_scaler.fit_transform(X_train)\n",
    "# X_val_poly_scaled = poly_scaler.transform(X_val)\n",
    "\n",
    "# sgd_reg = SGDRegressor(max_iter=1, tol=-np.infty, warm_start=True, penalty=None, learning_rate='constant', eta0=0.0005)\n",
    "\n",
    "# min_val_error = float('inf')\n",
    "# best_epoch = None\n",
    "# best_model = None\n",
    "\n",
    "# for epoch in range(1000):\n",
    "#     sgd_reg.fit(X_train_poly_scaled, y_train)  # continues where it left off\n",
    "#     y_val_predict = sgd_reg.predict(X_val_poly_scaled)\n",
    "#     val_error = mean_squared_error(y_val, y_val_predict)\n",
    "#     if val_error < min_val_error:\n",
    "#         min_val_error = val_error\n",
    "#         best_epoch = epoch\n",
    "#         best_model = deepcopy(sgd_reg)"
   ]
  },
  {
   "cell_type": "markdown",
   "metadata": {},
   "source": [
    "## Logistic Regression\n",
    "\n",
    "The model for logistic regression is a linear (affine) function passed through a logistic function (sigmoid): $h_{\\mathbf{\\theta}}(\\mathbf{x}) = \\hat{p} = \\sigma(\\mathbf{\\theta}^T \\mathbf{x})$ where $\\hat{p}$ is the probability of the input instance belonging to the *positive* class. The prediction is then simply done as $\\hat{y} = sign(\\hat{p})$.\n",
    "\n",
    "The logistic function is defined as $\\sigma(z) = \\frac{1}{1 + e^{-z}}$.\n",
    "\n",
    "Cost function is the *log loss* and is defined as $J(\\mathbf{\\theta}) = -\\frac{1}{m}\\sum_{i=1}^{m}[y^{(i)}\\log(\\hat{p}^{(i)}) + (1 - y^{(i)})\\log(1 - \\hat{p}^{(i)})]$\n",
    "\n",
    "There's no closed-form equation for computing the optimum of the log loss function. However, it's a convex function so any local optimization can find the global minimum (e.g. gradient descent)."
   ]
  },
  {
   "cell_type": "code",
   "execution_count": 23,
   "metadata": {},
   "outputs": [
    {
     "data": {
      "image/png": "[encoded data removed]",
      "text/plain": [
       "<Figure size 432x288 with 1 Axes>"
      ]
     },
     "metadata": {
      "needs_background": "light"
     },
     "output_type": "display_data"
    }
   ],
   "source": [
    "p = np.linspace(0, 1, 100)\n",
    "plt.plot(p, -np.log(p), label='y = 1')\n",
    "plt.plot(p, -np.log(1 - p), label='y = 0')\n",
    "plt.legend()\n",
    "plt.show()"
   ]
  },
  {
   "cell_type": "code",
   "execution_count": null,
   "metadata": {},
   "outputs": [],
   "source": []
  }
 ],
 "metadata": {
  "kernelspec": {
   "display_name": "Python 3",
   "language": "python",
   "name": "python3"
  },
  "language_info": {
   "codemirror_mode": {
    "name": "ipython",
    "version": 3
   },
   "file_extension": ".py",
   "mimetype": "text/x-python",
   "name": "python",
   "nbconvert_exporter": "python",
   "pygments_lexer": "ipython3",
   "version": "3.8.5"
  }
 },
 "nbformat": 4,
 "nbformat_minor": 4
}

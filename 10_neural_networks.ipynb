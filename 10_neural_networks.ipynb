{
 "cells": [
  {
   "cell_type": "markdown",
   "metadata": {},
   "source": [
    "# Introdution to Artificial Neural Networks with Keras"
   ]
  },
  {
   "cell_type": "markdown",
   "metadata": {},
   "source": [
    "## The Perceptron\n",
    "**Forward step** is $h_{\\mathbf{W}, \\mathbf{b}} = \\phi(\\mathbf{X}\\mathbf{W} + \\mathbf{b})$ (assuming the addition is broadcasted).\n",
    "\n",
    "**Learning step** is $w_{i,j}^{(\\text{next})} = w_{i,j} + \\eta (y_j - \\hat{y}_j) x_i$ where:\n",
    "* $x_i$ is the $i$-th input\n",
    "* $y_j$ is the $j$-th target\n",
    "* $\\hat{y}_j$ is the $j$-th predicted value\n",
    "* $\\eta$ is the learning rate\n",
    "\n",
    "The learning is basically a gradient descent with constant learning rate and specific gradient.\n",
    "\n",
    "It can be shown that for linearly separable dataset this algorightm converges and finds a separating hyper-plane."
   ]
  },
  {
   "cell_type": "code",
   "execution_count": 1,
   "metadata": {},
   "outputs": [
    {
     "data": {
      "text/plain": [
       "array([1])"
      ]
     },
     "execution_count": 1,
     "metadata": {},
     "output_type": "execute_result"
    }
   ],
   "source": [
    "import numpy as np\n",
    "\n",
    "from sklearn.datasets import load_iris\n",
    "from sklearn.linear_model import Perceptron\n",
    "\n",
    "# Load the IRIS dataset\n",
    "iris = load_iris()\n",
    "X = iris.data[:, (2, 3)]  # petal length, petal width\n",
    "y = (iris.target == 0).astype(np.int)\n",
    "\n",
    "# Train Perceptron with single unit\n",
    "per_clf = Perceptron(max_iter=1000, tol=1e-3, random_state=42)\n",
    "per_clf.fit(X, y)\n",
    "\n",
    "# Make a prediction\n",
    "per_clf.predict([[2, 0.5]])"
   ]
  },
  {
   "cell_type": "code",
   "execution_count": null,
   "metadata": {},
   "outputs": [],
   "source": []
  }
 ],
 "metadata": {
  "kernelspec": {
   "display_name": "Python 3",
   "language": "python",
   "name": "python3"
  },
  "language_info": {
   "codemirror_mode": {
    "name": "ipython",
    "version": 3
   },
   "file_extension": ".py",
   "mimetype": "text/x-python",
   "name": "python",
   "nbconvert_exporter": "python",
   "pygments_lexer": "ipython3",
   "version": "3.8.5"
  }
 },
 "nbformat": 4,
 "nbformat_minor": 4
}

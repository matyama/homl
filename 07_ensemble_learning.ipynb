{
 "cells": [
  {
   "cell_type": "markdown",
   "metadata": {},
   "source": [
    "# Ensemble learning and Random Forests\n",
    "\n",
    "## Voting Classifiers\n",
    "* Train multiple classifiers on the training set (possibly the same or subsets - more later) and construct an ensemble classifier by e.g. a mode (the most frequent output)\n",
    "* Typically performs better than individual classifiers - follows from the law of large numbers (the more classifiers the better)\n",
    "* But using the same training set is problematic as individual classifiers might be correlated (not iid) - classifiers will learn the same mistakes, especially when all implement the same learning algorithm\n",
    "* Regression works similarly and typically uses mean instead of statistical mode for the final output"
   ]
  },
  {
   "cell_type": "code",
   "execution_count": 4,
   "metadata": {},
   "outputs": [
    {
     "name": "stdout",
     "output_type": "stream",
     "text": [
      "LogisticRegression 0.8225\n",
      "RandomForestClassifier 0.833\n",
      "SVC 0.8575\n",
      "VotingClassifier 0.852\n"
     ]
    }
   ],
   "source": [
    "from sklearn.datasets import make_moons\n",
    "from sklearn.ensemble import RandomForestClassifier, VotingClassifier\n",
    "from sklearn.linear_model import LogisticRegression\n",
    "from sklearn.metrics import accuracy_score\n",
    "from sklearn.model_selection import train_test_split\n",
    "from sklearn.svm import SVC\n",
    "\n",
    "X, y = make_moons(n_samples=10_000, noise=0.4)\n",
    "\n",
    "X_train, X_test, y_train, y_test = train_test_split(X, y, test_size=0.2)\n",
    "\n",
    "log_clf = LogisticRegression()\n",
    "rnd_clf = RandomForestClassifier()\n",
    "svc_clf = SVC()\n",
    "\n",
    "voting_clf = VotingClassifier(\n",
    "    estimators=[('lr', log_clf), ('rf', rnd_clf), ('svc', svc_clf)],\n",
    "    voting='hard',\n",
    ")\n",
    "\n",
    "for clf in (log_clf, rnd_clf, svc_clf, voting_clf):\n",
    "    clf.fit(X_train, y_train)\n",
    "    y_pred = clf.predict(X_test)\n",
    "    print(clf.__class__.__name__, accuracy_score(y_test, y_pred))"
   ]
  },
  {
   "cell_type": "markdown",
   "metadata": {},
   "source": [
    "## Bagging and Pasting\n",
    "* The idea here is to prevent correlation by splitting the training set into subsets and training each predictor (all of one type) on one subset\n",
    "* When the subset sampling is done *with replacement* then we call this technique **bagging** (in statistics also called **bootstrap**), when it's done *without replacement* we call it **pasting**\n",
    "* Aggregate model should in theory generalize better - the reasoning here is that we trade increased bias (because we use many models of the same type) for lower variance (because of splitting the training set and using aggregation)"
   ]
  },
  {
   "cell_type": "code",
   "execution_count": 5,
   "metadata": {},
   "outputs": [
    {
     "data": {
      "text/plain": [
       "0.854"
      ]
     },
     "execution_count": 5,
     "metadata": {},
     "output_type": "execute_result"
    }
   ],
   "source": [
    "from sklearn.ensemble import BaggingClassifier\n",
    "from sklearn.tree import DecisionTreeClassifier\n",
    "\n",
    "bag_clf = BaggingClassifier(\n",
    "    base_estimator=DecisionTreeClassifier(),\n",
    "    n_estimators=500,\n",
    "    max_samples=100,\n",
    "    bootstrap=True,\n",
    "    n_jobs=-1,\n",
    ")\n",
    "bag_clf.fit(X_train, y_train)\n",
    "\n",
    "y_pred = bag_clf.predict(X_test)\n",
    "accuracy_score(y_test, y_pred)"
   ]
  },
  {
   "cell_type": "markdown",
   "metadata": {},
   "source": [
    "### Out-of-Bag Evaluation\n",
    "Because bootstrap samples (with replacement) out of all $m$ training just some into each taining sub-set it means that only about 63% on average of all the training instances will sampled for some predictor. The rest, which is never sampled, is called *out-of-bag* instances.\n",
    "\n",
    "The idea here is that we can use OOB instances as a free validation set because it is likely that each training instance will be OOB for several estimators. *Scikit-Learn* can automatically collect OOB score during training."
   ]
  },
  {
   "cell_type": "code",
   "execution_count": 6,
   "metadata": {},
   "outputs": [
    {
     "data": {
      "text/plain": [
       "0.841875"
      ]
     },
     "execution_count": 6,
     "metadata": {},
     "output_type": "execute_result"
    }
   ],
   "source": [
    "bag_clf = BaggingClassifier(\n",
    "    base_estimator=DecisionTreeClassifier(),\n",
    "    n_estimators=500,\n",
    "    bootstrap=True,\n",
    "    n_jobs=-1,\n",
    "    oob_score=True,\n",
    ")\n",
    "bag_clf.fit(X_train, y_train)\n",
    "bag_clf.oob_score_"
   ]
  },
  {
   "cell_type": "code",
   "execution_count": 7,
   "metadata": {},
   "outputs": [
    {
     "data": {
      "text/plain": [
       "0.827"
      ]
     },
     "execution_count": 7,
     "metadata": {},
     "output_type": "execute_result"
    }
   ],
   "source": [
    "y_pred = bag_clf.predict(X_test)\n",
    "accuracy_score(y_test, y_pred)"
   ]
  },
  {
   "cell_type": "code",
   "execution_count": 9,
   "metadata": {},
   "outputs": [
    {
     "data": {
      "text/plain": [
       "array([[0.515625  , 0.484375  ],\n",
       "       [0.        , 1.        ],\n",
       "       [0.41847826, 0.58152174],\n",
       "       ...,\n",
       "       [0.        , 1.        ],\n",
       "       [0.26842105, 0.73157895],\n",
       "       [1.        , 0.        ]])"
      ]
     },
     "execution_count": 9,
     "metadata": {},
     "output_type": "execute_result"
    }
   ],
   "source": [
    "bag_clf.oob_decision_function_"
   ]
  },
  {
   "cell_type": "markdown",
   "metadata": {},
   "source": [
    "### Random Patches and Random Subspaces\n",
    "\n",
    "Another variant (or rather extension) of a bagging classifier is sampling features as well as training instances.\n",
    "* *Random patches* - sample both features and instances\n",
    "* *Random subspaces* - sample features but keep all instance (set `bootstrap=False, max_samples=1.0`, `bootstrap_features=True` and/or `max_features` to less than 1\n",
    "\n",
    "In *Scikit-Learn* one can control feature sampling with `bootstrap_features` and `max_features` which works similarly to `bootstrap` and `max_samples`."
   ]
  },
  {
   "cell_type": "markdown",
   "metadata": {},
   "source": [
    "## Random Forests\n",
    "\n",
    "In *Scikit-Learn* it's basically a convenience API for a begging (sometimes pasting) classifier/regressor."
   ]
  },
  {
   "cell_type": "code",
   "execution_count": 11,
   "metadata": {},
   "outputs": [
    {
     "data": {
      "text/plain": [
       "0.851"
      ]
     },
     "execution_count": 11,
     "metadata": {},
     "output_type": "execute_result"
    }
   ],
   "source": [
    "rnd_clf = RandomForestClassifier(n_estimators=500, max_leaf_nodes=16, n_jobs=-1)\n",
    "rnd_clf.fit(X_train, y_train)\n",
    "\n",
    "# Equivalent to:\n",
    "# bag_clf = BaggingClassifier(\n",
    "#     base_estimator=DecisionTreeClassifier(max_features='auto', max_leaf_nodes=16),\n",
    "#     n_estimators=500,\n",
    "#     max_samples=1.0,\n",
    "#     bootstrap=True,\n",
    "#     n_jobs=-1,\n",
    "# )\n",
    "\n",
    "y_pred_rf = rnd_clf.predict(X_test)\n",
    "accuracy_score(y_test, y_pred_rf)"
   ]
  },
  {
   "cell_type": "markdown",
   "metadata": {},
   "source": [
    "### Feature Importance\n",
    "\n",
    "Random forests have a nice property that they can easily estimate feature importance by looking at how much the tree nodes using a feature reduce impurity on average (over all trees in the forest, weighted by the leaf sample size)."
   ]
  },
  {
   "cell_type": "code",
   "execution_count": 12,
   "metadata": {},
   "outputs": [
    {
     "name": "stdout",
     "output_type": "stream",
     "text": [
      "sepal length (cm) 0.10262207841339653\n",
      "sepal width (cm) 0.021958038468146413\n",
      "petal length (cm) 0.44384344969893047\n",
      "petal width (cm) 0.4315764334195266\n"
     ]
    }
   ],
   "source": [
    "from sklearn.datasets import load_iris\n",
    "\n",
    "iris = load_iris()\n",
    "\n",
    "rnd_clf = RandomForestClassifier(n_estimators=500, n_jobs=-1)\n",
    "rnd_clf.fit(iris['data'], iris['target'])\n",
    "\n",
    "for name, score in zip(iris['feature_names'], rnd_clf.feature_importances_):\n",
    "    print(name, score)"
   ]
  },
  {
   "cell_type": "code",
   "execution_count": null,
   "metadata": {},
   "outputs": [],
   "source": []
  }
 ],
 "metadata": {
  "kernelspec": {
   "display_name": "Python 3",
   "language": "python",
   "name": "python3"
  },
  "language_info": {
   "codemirror_mode": {
    "name": "ipython",
    "version": 3
   },
   "file_extension": ".py",
   "mimetype": "text/x-python",
   "name": "python",
   "nbconvert_exporter": "python",
   "pygments_lexer": "ipython3",
   "version": "3.8.5"
  }
 },
 "nbformat": 4,
 "nbformat_minor": 4
}
